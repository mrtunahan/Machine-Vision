{
 "cells": [
  {
   "cell_type": "code",
   "execution_count": 23,
   "id": "e55cbfc4",
   "metadata": {},
   "outputs": [
    {
     "data": {
      "text/plain": [
       "True"
      ]
     },
     "execution_count": 23,
     "metadata": {},
     "output_type": "execute_result"
    }
   ],
   "source": [
    "import cv2\n",
    "import numpy as np\n",
    "import matplotlib.pyplot as plt\n",
    "image = cv2.imread(\"C:/Users/Tuna/tuna.jpg\")\n",
    "image = cv2.cvtColor(image, cv2.COLOR_BGR2RGB)\n",
    "pixel_values = image.reshape((-1, 3))\n",
    "pixel_values = np.float32(pixel_values)\n",
    "criteria = (cv2.TERM_CRITERIA_EPS + cv2.TERM_CRITERIA_MAX_ITER, 100, 0.2)\n",
    "k = 3\n",
    "_, labels, (centers) = cv2.kmeans(pixel_values, k, None, criteria, 10, cv2.KMEANS_RANDOM_CENTERS)\n",
    "centers = np.uint8(centers)\n",
    "labels = labels.flatten()\n",
    "segmented_image = centers[labels.flatten()]\n",
    "segmented_image = segmented_image.reshape(image.shape)\n",
    "\n",
    "cv2.imwrite(\"segmented.jpg\", segmented_image)\n",
    "masked_image = np.copy(image)\n",
    "masked_image = masked_image.reshape((-1, 3))\n",
    "cluster = 2\n",
    "masked_image[labels == cluster] = [0, 0, 0]\n",
    "masked_image = masked_image.reshape(image.shape)\n",
    "\n",
    "cv2.imwrite(\"segmented2.jpg\", masked_image)\n"
   ]
  },
  {
   "cell_type": "code",
   "execution_count": null,
   "id": "d3b637e5",
   "metadata": {},
   "outputs": [],
   "source": []
  }
 ],
 "metadata": {
  "kernelspec": {
   "display_name": "Python 3",
   "language": "python",
   "name": "python3"
  },
  "language_info": {
   "codemirror_mode": {
    "name": "ipython",
    "version": 3
   },
   "file_extension": ".py",
   "mimetype": "text/x-python",
   "name": "python",
   "nbconvert_exporter": "python",
   "pygments_lexer": "ipython3",
   "version": "3.8.8"
  }
 },
 "nbformat": 4,
 "nbformat_minor": 5
}
